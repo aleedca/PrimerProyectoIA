{
 "cells": [
  {
   "cell_type": "markdown",
   "metadata": {},
   "source": [
    "### **Exploración y preprocesamiento de datos**"
   ]
  },
  {
   "cell_type": "code",
   "execution_count": 3,
   "metadata": {},
   "outputs": [
    {
     "name": "stdout",
     "output_type": "stream",
     "text": [
      "     Number Sex  %Red Pixel  %Green pixel  %Blue pixel    Hb Anaemic\n",
      "0         1   M     43.2555       30.8421      25.9025   6.3     Yes\n",
      "1         2   F     45.6033       28.1900      26.2067  13.5      No\n",
      "2         3  F      45.0107       28.9677      26.0215  11.7      No\n",
      "3         4   F     44.5398       28.9899      26.4703  13.5      No\n",
      "4         5  M      43.2870       30.6972      26.0158  12.4      No\n",
      "..      ...  ..         ...           ...          ...   ...     ...\n",
      "99      100  F      49.9999       29.2860      20.7141  14.5     Yes\n",
      "100     101  M      42.2324       30.6757      27.0919   6.3     Yes\n",
      "101     102   F     45.6064       31.9084      22.4852  12.7      No\n",
      "102     103  M      45.2095       29.2769      25.5136  13.4      No\n",
      "103     104   F     43.5706       29.8094      26.6199  12.2      No\n",
      "\n",
      "[104 rows x 7 columns]\n"
     ]
    }
   ],
   "source": [
    "import pandas as pd\n",
    "import numpy as np\n",
    "import matplotlib.pyplot as plt\n",
    "import seaborn as sns\n",
    "\n",
    "# Cargar el archivo CSV\n",
    "dataframe = pd.read_csv('anemia.csv')\n",
    "print(dataframe)"
   ]
  },
  {
   "cell_type": "markdown",
   "metadata": {},
   "source": [
    "### **Modelo y evaluación**"
   ]
  },
  {
   "cell_type": "code",
   "execution_count": null,
   "metadata": {},
   "outputs": [],
   "source": []
  }
 ],
 "metadata": {
  "kernelspec": {
   "display_name": "IA",
   "language": "python",
   "name": "python3"
  },
  "language_info": {
   "codemirror_mode": {
    "name": "ipython",
    "version": 3
   },
   "file_extension": ".py",
   "mimetype": "text/x-python",
   "name": "python",
   "nbconvert_exporter": "python",
   "pygments_lexer": "ipython3",
   "version": "3.12.4"
  }
 },
 "nbformat": 4,
 "nbformat_minor": 2
}
